{
 "cells": [
  {
   "metadata": {},
   "cell_type": "markdown",
   "source": "# jupyter test",
   "id": "533653754dd852c8"
  },
  {
   "metadata": {},
   "cell_type": "markdown",
   "source": "## hello world",
   "id": "f41d748662f44e80"
  },
  {
   "metadata": {
    "ExecuteTime": {
     "end_time": "2024-05-09T08:31:53.320875Z",
     "start_time": "2024-05-09T08:31:53.316323Z"
    }
   },
   "cell_type": "code",
   "source": [
    "import jupyter_core\n",
    "\n",
    "print(f\"hello world from jupyter {jupyter_core.version_info}\")"
   ],
   "id": "659d5e5fc4e1ae01",
   "outputs": [
    {
     "name": "stdout",
     "output_type": "stream",
     "text": [
      "hello world from jupyter (5, 7, 2)\n"
     ]
    }
   ],
   "execution_count": 8
  },
  {
   "metadata": {},
   "cell_type": "code",
   "outputs": [],
   "execution_count": null,
   "source": "",
   "id": "74f50b0d55f5dd7c"
  }
 ],
 "metadata": {
  "kernelspec": {
   "display_name": "Python 3",
   "language": "python",
   "name": "python3"
  },
  "language_info": {
   "codemirror_mode": {
    "name": "ipython",
    "version": 2
   },
   "file_extension": ".py",
   "mimetype": "text/x-python",
   "name": "python",
   "nbconvert_exporter": "python",
   "pygments_lexer": "ipython2",
   "version": "2.7.6"
  }
 },
 "nbformat": 4,
 "nbformat_minor": 5
}
