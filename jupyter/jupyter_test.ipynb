{
 "cells": [
  {
   "metadata": {},
   "cell_type": "markdown",
   "source": "# jupyter test",
   "id": "533653754dd852c8"
  },
  {
   "metadata": {},
   "cell_type": "markdown",
   "source": "## hello world",
   "id": "f41d748662f44e80"
  },
  {
   "metadata": {
    "ExecuteTime": {
     "end_time": "2024-05-09T08:39:21.388814Z",
     "start_time": "2024-05-09T08:39:21.385641Z"
    }
   },
   "cell_type": "code",
   "source": [
    "import jupyter_core\n",
    "\n",
    "print(f\"hello world from jupyter {jupyter_core.version_info}\")"
   ],
   "id": "659d5e5fc4e1ae01",
   "outputs": [
    {
     "name": "stdout",
     "output_type": "stream",
     "text": [
      "hello world from jupyter (5, 7, 2)\n"
     ]
    }
   ],
   "execution_count": 14
  },
  {
   "metadata": {},
   "cell_type": "markdown",
   "source": [
    "### 变量的定义\n",
    "- 相当于一个大全局变量表(Ipython提供)\n",
    "- 如果后面的用同名的更新了, 那么前面的重新执行, 也会受影响\n",
    "- 如果IPython重启, 那所有的变量就都丢了"
   ],
   "id": "c2a6bc811b786cb8"
  },
  {
   "metadata": {
    "ExecuteTime": {
     "end_time": "2024-05-09T08:39:21.421938Z",
     "start_time": "2024-05-09T08:39:21.418912Z"
    }
   },
   "cell_type": "code",
   "source": "value1 = \"hello\"",
   "id": "74f50b0d55f5dd7c",
   "outputs": [],
   "execution_count": 15
  },
  {
   "metadata": {
    "ExecuteTime": {
     "end_time": "2024-05-09T08:39:43.086479Z",
     "start_time": "2024-05-09T08:39:43.082579Z"
    }
   },
   "cell_type": "code",
   "source": "print(value1)",
   "id": "e926841c37d23335",
   "outputs": [
    {
     "name": "stdout",
     "output_type": "stream",
     "text": [
      "hello new\n"
     ]
    }
   ],
   "execution_count": 19
  },
  {
   "metadata": {
    "ExecuteTime": {
     "end_time": "2024-05-09T08:39:21.451120Z",
     "start_time": "2024-05-09T08:39:21.447446Z"
    }
   },
   "cell_type": "code",
   "source": "value1 = \"hello new\"",
   "id": "ed3c7e49988ac693",
   "outputs": [],
   "execution_count": 17
  },
  {
   "metadata": {
    "ExecuteTime": {
     "end_time": "2024-05-09T08:39:21.502210Z",
     "start_time": "2024-05-09T08:39:21.499701Z"
    }
   },
   "cell_type": "code",
   "source": "print(value1)",
   "id": "b5d0937dd6614cab",
   "outputs": [
    {
     "name": "stdout",
     "output_type": "stream",
     "text": [
      "hello new\n"
     ]
    }
   ],
   "execution_count": 18
  }
 ],
 "metadata": {
  "kernelspec": {
   "display_name": "Python 3",
   "language": "python",
   "name": "python3"
  },
  "language_info": {
   "codemirror_mode": {
    "name": "ipython",
    "version": 2
   },
   "file_extension": ".py",
   "mimetype": "text/x-python",
   "name": "python",
   "nbconvert_exporter": "python",
   "pygments_lexer": "ipython2",
   "version": "2.7.6"
  }
 },
 "nbformat": 4,
 "nbformat_minor": 5
}
