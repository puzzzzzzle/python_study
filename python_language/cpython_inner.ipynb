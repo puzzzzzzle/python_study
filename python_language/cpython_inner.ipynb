{
 "cells": [
  {
   "cell_type": "code",
   "id": "initial_id",
   "metadata": {
    "collapsed": true,
    "ExecuteTime": {
     "end_time": "2025-04-27T11:37:46.015510Z",
     "start_time": "2025-04-27T11:37:46.009652Z"
    }
   },
   "source": [
    "print(object.__base__) # object 没有父类\n",
    "print(type.__base__) # type 的父类是 object"
   ],
   "outputs": [
    {
     "name": "stdout",
     "output_type": "stream",
     "text": [
      "None\n",
      "<class 'object'>\n"
     ]
    }
   ],
   "execution_count": 1
  },
  {
   "metadata": {
    "ExecuteTime": {
     "end_time": "2025-04-27T11:38:56.326214Z",
     "start_time": "2025-04-27T11:38:56.323028Z"
    }
   },
   "cell_type": "code",
   "source": [
    "print(type(object)) # object 的类型是 type\n",
    "print(type(type)) # type 的类型是 type\n",
    "\n",
    "print(type(object).__base__) # type 实例也是继承自 object"
   ],
   "id": "d2d6564dc9da028d",
   "outputs": [
    {
     "name": "stdout",
     "output_type": "stream",
     "text": [
      "<class 'type'>\n",
      "<class 'type'>\n",
      "<class 'object'>\n"
     ]
    }
   ],
   "execution_count": 3
  },
  {
   "metadata": {},
   "cell_type": "markdown",
   "source": [
    "## 总结\n",
    "- object 是所有类的基类\n",
    "- object 的类型是 type的实例"
   ],
   "id": "1df7a1c7d292deb"
  }
 ],
 "metadata": {
  "kernelspec": {
   "display_name": "Python 3",
   "language": "python",
   "name": "python3"
  },
  "language_info": {
   "codemirror_mode": {
    "name": "ipython",
    "version": 2
   },
   "file_extension": ".py",
   "mimetype": "text/x-python",
   "name": "python",
   "nbconvert_exporter": "python",
   "pygments_lexer": "ipython2",
   "version": "2.7.6"
  }
 },
 "nbformat": 4,
 "nbformat_minor": 5
}
