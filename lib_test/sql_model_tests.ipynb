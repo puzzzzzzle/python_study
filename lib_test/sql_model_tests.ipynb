{
 "cells": [
  {
   "metadata": {},
   "cell_type": "markdown",
   "source": "## SQL Model Tests",
   "id": "276df76328ff87b1"
  },
  {
   "metadata": {
    "ExecuteTime": {
     "end_time": "2025-05-16T12:33:48.170474Z",
     "start_time": "2025-05-16T12:33:48.165315Z"
    }
   },
   "cell_type": "code",
   "source": [
    "import os\n",
    "sqlite_file_name = \"database.db\"\n",
    "try:\n",
    "    os.remove(sqlite_file_name)\n",
    "except FileNotFoundError:\n",
    "    pass"
   ],
   "id": "e02906d4ed4358ba",
   "outputs": [],
   "execution_count": 1
  },
  {
   "metadata": {
    "ExecuteTime": {
     "end_time": "2025-05-16T12:33:48.469073Z",
     "start_time": "2025-05-16T12:33:48.207789Z"
    }
   },
   "cell_type": "code",
   "source": [
    "from sqlmodel import Field, SQLModel, create_engine, Session\n",
    "\n",
    "\n",
    "class Hero(SQLModel, table=True):\n",
    "    id: int | None = Field(default=None, primary_key=True)\n",
    "    name: str\n",
    "    secret_name: str\n",
    "    age: int | None = None\n",
    "\n",
    "\n",
    "sqlite_url = f\"sqlite:///{sqlite_file_name}\"\n",
    "\n",
    "engine = create_engine(sqlite_url, echo=True)\n",
    "\n",
    "\n",
    "def create_db_and_tables():\n",
    "    SQLModel.metadata.create_all(engine)\n",
    "create_db_and_tables()\n",
    "\n"
   ],
   "id": "b0f98f5a6c19dedc",
   "outputs": [
    {
     "name": "stdout",
     "output_type": "stream",
     "text": [
      "2025-05-16 20:33:48,456 INFO sqlalchemy.engine.Engine BEGIN (implicit)\n",
      "2025-05-16 20:33:48,457 INFO sqlalchemy.engine.Engine PRAGMA main.table_info(\"hero\")\n",
      "2025-05-16 20:33:48,457 INFO sqlalchemy.engine.Engine [raw sql] ()\n",
      "2025-05-16 20:33:48,458 INFO sqlalchemy.engine.Engine PRAGMA temp.table_info(\"hero\")\n",
      "2025-05-16 20:33:48,458 INFO sqlalchemy.engine.Engine [raw sql] ()\n",
      "2025-05-16 20:33:48,460 INFO sqlalchemy.engine.Engine \n",
      "CREATE TABLE hero (\n",
      "\tid INTEGER NOT NULL, \n",
      "\tname VARCHAR NOT NULL, \n",
      "\tsecret_name VARCHAR NOT NULL, \n",
      "\tage INTEGER, \n",
      "\tPRIMARY KEY (id)\n",
      ")\n",
      "\n",
      "\n",
      "2025-05-16 20:33:48,460 INFO sqlalchemy.engine.Engine [no key 0.00044s] ()\n",
      "2025-05-16 20:33:48,467 INFO sqlalchemy.engine.Engine COMMIT\n"
     ]
    }
   ],
   "execution_count": 2
  },
  {
   "metadata": {
    "ExecuteTime": {
     "end_time": "2025-05-16T12:39:14.988642Z",
     "start_time": "2025-05-16T12:39:14.969901Z"
    }
   },
   "cell_type": "code",
   "source": [
    "def create_heroes():\n",
    "    hero_1 = Hero(name=\"Deadpond\", secret_name=\"Dive Wilson\")\n",
    "    hero_2 = Hero(name=\"Spider-Boy\", secret_name=\"Pedro Parqueador\")\n",
    "    hero_3 = Hero(name=\"Rusty-Man\", secret_name=\"Tommy Sharp\", age=48)\n",
    "    print(f\"hero_1: {hero_1}\")\n",
    "    with Session(engine) as session:\n",
    "        session.add(hero_1)\n",
    "        session.add(hero_2)\n",
    "        session.add(hero_3)\n",
    "\n",
    "        session.commit()\n",
    "        session.refresh(hero_2)\n",
    "        session.refresh(hero_1)\n",
    "        session.refresh(hero_3)\n",
    "        print(f\"after commit {hero_1}\")\n",
    "        print(f\"after commit {hero_2}\")\n",
    "        print(f\"after commit {hero_3}\")\n",
    "\n",
    "\n",
    "\n",
    "create_heroes()"
   ],
   "id": "a79f3e04c737098a",
   "outputs": [
    {
     "name": "stdout",
     "output_type": "stream",
     "text": [
      "hero_1: name='Deadpond' secret_name='Dive Wilson' id=None age=None\n",
      "2025-05-16 20:39:14,972 INFO sqlalchemy.engine.Engine BEGIN (implicit)\n",
      "2025-05-16 20:39:14,974 INFO sqlalchemy.engine.Engine INSERT INTO hero (name, secret_name, age) VALUES (?, ?, ?) RETURNING id\n",
      "2025-05-16 20:39:14,974 INFO sqlalchemy.engine.Engine [cached since 326.1s ago (insertmanyvalues) 1/3 (ordered; batch not supported)] ('Deadpond', 'Dive Wilson', None)\n",
      "2025-05-16 20:39:14,975 INFO sqlalchemy.engine.Engine INSERT INTO hero (name, secret_name, age) VALUES (?, ?, ?) RETURNING id\n",
      "2025-05-16 20:39:14,976 INFO sqlalchemy.engine.Engine [insertmanyvalues 2/3 (ordered; batch not supported)] ('Spider-Boy', 'Pedro Parqueador', None)\n",
      "2025-05-16 20:39:14,976 INFO sqlalchemy.engine.Engine INSERT INTO hero (name, secret_name, age) VALUES (?, ?, ?) RETURNING id\n",
      "2025-05-16 20:39:14,976 INFO sqlalchemy.engine.Engine [insertmanyvalues 3/3 (ordered; batch not supported)] ('Rusty-Man', 'Tommy Sharp', 48)\n",
      "2025-05-16 20:39:14,977 INFO sqlalchemy.engine.Engine COMMIT\n",
      "2025-05-16 20:39:14,982 INFO sqlalchemy.engine.Engine BEGIN (implicit)\n",
      "2025-05-16 20:39:14,983 INFO sqlalchemy.engine.Engine SELECT hero.id, hero.name, hero.secret_name, hero.age \n",
      "FROM hero \n",
      "WHERE hero.id = ?\n",
      "2025-05-16 20:39:14,983 INFO sqlalchemy.engine.Engine [cached since 326.1s ago] (14,)\n",
      "2025-05-16 20:39:14,984 INFO sqlalchemy.engine.Engine SELECT hero.id, hero.name, hero.secret_name, hero.age \n",
      "FROM hero \n",
      "WHERE hero.id = ?\n",
      "2025-05-16 20:39:14,984 INFO sqlalchemy.engine.Engine [cached since 326.1s ago] (13,)\n",
      "2025-05-16 20:39:14,985 INFO sqlalchemy.engine.Engine SELECT hero.id, hero.name, hero.secret_name, hero.age \n",
      "FROM hero \n",
      "WHERE hero.id = ?\n",
      "2025-05-16 20:39:14,985 INFO sqlalchemy.engine.Engine [cached since 326.1s ago] (15,)\n",
      "after commit secret_name='Dive Wilson' name='Deadpond' age=None id=13\n",
      "after commit secret_name='Pedro Parqueador' name='Spider-Boy' age=None id=14\n",
      "after commit secret_name='Tommy Sharp' name='Rusty-Man' age=48 id=15\n",
      "2025-05-16 20:39:14,986 INFO sqlalchemy.engine.Engine ROLLBACK\n"
     ]
    }
   ],
   "execution_count": 7
  },
  {
   "metadata": {
    "ExecuteTime": {
     "end_time": "2025-05-16T12:33:48.943214Z",
     "start_time": "2025-05-16T12:33:48.941636Z"
    }
   },
   "cell_type": "code",
   "source": "",
   "id": "95dcb4da181d4b89",
   "outputs": [],
   "execution_count": null
  }
 ],
 "metadata": {
  "kernelspec": {
   "display_name": "Python 3",
   "language": "python",
   "name": "python3"
  },
  "language_info": {
   "codemirror_mode": {
    "name": "ipython",
    "version": 2
   },
   "file_extension": ".py",
   "mimetype": "text/x-python",
   "name": "python",
   "nbconvert_exporter": "python",
   "pygments_lexer": "ipython2",
   "version": "2.7.6"
  }
 },
 "nbformat": 4,
 "nbformat_minor": 5
}
