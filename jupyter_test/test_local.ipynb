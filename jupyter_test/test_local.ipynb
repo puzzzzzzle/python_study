{
 "cells": [
  {
   "cell_type": "code",
   "id": "initial_id",
   "metadata": {
    "collapsed": true,
    "ExecuteTime": {
     "end_time": "2024-05-09T08:50:41.772110Z",
     "start_time": "2024-05-09T08:50:41.767484Z"
    }
   },
   "source": [
    "import consts\n",
    "import logging\n",
    "logger = logging.getLogger(__name__)\n",
    "\n",
    "logger.info(f\"hello from local : {consts.sourceDir}\")"
   ],
   "outputs": [
    {
     "name": "stderr",
     "output_type": "stream",
     "text": [
      "[2024-05-09 16:50:41]\t[INFO]\thello from local : F:\\projects\\Study\\study_reps\\python_study\t[\"C:\\Users\\khalidzhang\\AppData\\Local\\Temp\\ipykernel_37132\\2449834091.py:5\"] [__main__]\n"
     ]
    }
   ],
   "execution_count": 5
  },
  {
   "metadata": {},
   "cell_type": "code",
   "outputs": [],
   "execution_count": null,
   "source": "",
   "id": "c664a5d70dc7904d"
  }
 ],
 "metadata": {
  "kernelspec": {
   "display_name": "Python 3",
   "language": "python",
   "name": "python3"
  },
  "language_info": {
   "codemirror_mode": {
    "name": "ipython",
    "version": 2
   },
   "file_extension": ".py",
   "mimetype": "text/x-python",
   "name": "python",
   "nbconvert_exporter": "python",
   "pygments_lexer": "ipython2",
   "version": "2.7.6"
  }
 },
 "nbformat": 4,
 "nbformat_minor": 5
}
